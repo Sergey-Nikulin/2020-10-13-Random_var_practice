{
 "cells": [
  {
   "cell_type": "code",
   "execution_count": 36,
   "metadata": {},
   "outputs": [],
   "source": [
    "import numpy as np"
   ]
  },
  {
   "cell_type": "code",
   "execution_count": 4,
   "metadata": {},
   "outputs": [
    {
     "data": {
      "text/plain": [
       "1"
      ]
     },
     "execution_count": 4,
     "metadata": {},
     "output_type": "execute_result"
    }
   ],
   "source": [
    "# генерируем дискретную величину\n",
    "np.random.randint(1, 5)"
   ]
  },
  {
   "cell_type": "code",
   "execution_count": 6,
   "metadata": {},
   "outputs": [
    {
     "data": {
      "text/plain": [
       "array([4, 3, 3, 2, 2, 2, 2, 2, 2, 3, 1, 3, 4, 2, 4, 2, 4, 3, 4, 3, 3, 3,\n",
       "       3, 2, 4, 4, 2, 4, 4, 4, 2, 4, 1, 4, 3, 2, 1, 2, 2, 3, 2, 2, 3, 2,\n",
       "       1, 3, 1, 3, 1, 3, 2, 3, 1, 4, 1, 4, 3, 3, 1, 4, 1, 1, 1, 2, 3, 3,\n",
       "       1, 2, 4, 4, 4, 1, 1, 2, 3, 3, 3, 1, 4, 1, 4, 3, 3, 4, 1, 4, 2, 3,\n",
       "       2, 3, 2, 2, 4, 4, 1, 2, 4, 1, 3, 1])"
      ]
     },
     "execution_count": 6,
     "metadata": {},
     "output_type": "execute_result"
    }
   ],
   "source": [
    "np.random.randint(1, 5, 100)"
   ]
  },
  {
   "cell_type": "code",
   "execution_count": 7,
   "metadata": {},
   "outputs": [
    {
     "data": {
      "text/plain": [
       "array([0.49041404, 0.03366389, 0.76504592, 0.56387894, 0.19416134,\n",
       "       0.03791204, 0.64549199, 0.6929107 , 0.74574476, 0.15774724,\n",
       "       0.09243509, 0.99278159, 0.25286686, 0.51590277, 0.3162789 ,\n",
       "       0.67571774, 0.30695183, 0.7752166 , 0.00543596, 0.86187804,\n",
       "       0.24247253, 0.75105681, 0.2068967 , 0.9470755 , 0.65736087,\n",
       "       0.80352934, 0.82310273, 0.21805797, 0.09891922, 0.49836916,\n",
       "       0.18113278, 0.70700187, 0.7530073 , 0.02082008, 0.35629814,\n",
       "       0.40062298, 0.75900882, 0.17026827, 0.95879264, 0.8573143 ,\n",
       "       0.54101979, 0.50181717, 0.78517848, 0.79402778, 0.79811656,\n",
       "       0.1041251 , 0.50307529, 0.38195524, 0.28513008, 0.89447136,\n",
       "       0.08062607, 0.20460362, 0.3923538 , 0.85254554, 0.20339884,\n",
       "       0.99483675, 0.59383294, 0.85204798, 0.31036205, 0.03352858,\n",
       "       0.47103532, 0.07766096, 0.33770872, 0.36821746, 0.96971161,\n",
       "       0.23094204, 0.6531054 , 0.18270073, 0.8737098 , 0.02637827,\n",
       "       0.1525448 , 0.43573474, 0.15049913, 0.60838098, 0.47400168,\n",
       "       0.25362131, 0.45783147, 0.28158293, 0.35556053, 0.63922861,\n",
       "       0.55371158, 0.67819723, 0.39397999, 0.18348392, 0.20064496,\n",
       "       0.59522681, 0.53325823, 0.4808449 , 0.14073273, 0.44547835,\n",
       "       0.4942394 , 0.28056654, 0.92605752, 0.19992079, 0.91846427,\n",
       "       0.13001604, 0.89808561, 0.34153936, 0.45379475, 0.50403894])"
      ]
     },
     "execution_count": 7,
     "metadata": {},
     "output_type": "execute_result"
    }
   ],
   "source": [
    "# генерируем непрерывную величину\n",
    "np.random.random(100)"
   ]
  },
  {
   "cell_type": "code",
   "execution_count": 10,
   "metadata": {},
   "outputs": [
    {
     "data": {
      "text/plain": [
       "2.303293956918016"
      ]
     },
     "execution_count": 10,
     "metadata": {},
     "output_type": "execute_result"
    }
   ],
   "source": [
    "np.random.uniform(1, 5)"
   ]
  },
  {
   "cell_type": "code",
   "execution_count": 11,
   "metadata": {},
   "outputs": [
    {
     "data": {
      "text/plain": [
       "array([4.1475076 , 2.39975956, 1.27679614, 4.32595709, 2.32372273,\n",
       "       4.21411013, 4.02404615, 2.9695626 , 4.7609944 , 2.65018586,\n",
       "       1.26916468, 4.64419201, 3.62841799, 2.68055124, 1.16540225,\n",
       "       1.52090831, 2.46822159, 3.34657047, 3.23319218, 2.08448533,\n",
       "       1.30796408, 1.13102408, 3.48992557, 3.24165197, 1.46620221,\n",
       "       1.31927831, 4.45886091, 4.7327399 , 4.0685822 , 2.71447598,\n",
       "       1.53261216, 4.81611212, 3.15589999, 3.64102683, 4.10950103,\n",
       "       2.27156594, 1.64113156, 2.41268366, 3.26329359, 2.91458996,\n",
       "       1.82204105, 1.5213502 , 4.76345634, 4.15887618, 3.82554504,\n",
       "       3.47389966, 1.58970721, 4.91987555, 1.08273239, 1.67534282,\n",
       "       2.66113386, 1.7064417 , 4.80098822, 1.77946772, 1.83038354,\n",
       "       1.65552162, 3.733795  , 1.424476  , 3.68985727, 4.97459584,\n",
       "       1.55769519, 4.48158285, 3.80386778, 3.23509691, 3.97137951,\n",
       "       4.71350913, 3.01455205, 3.73885219, 4.48932835, 3.51505433,\n",
       "       4.43953488, 3.80960333, 1.83301036, 1.53489974, 3.64285349,\n",
       "       3.96757105, 1.2475194 , 4.21350596, 4.50526327, 2.58446524,\n",
       "       2.02450695, 2.93422885, 4.36491842, 2.99929931, 1.03555724,\n",
       "       4.59147311, 2.62371418, 2.02774357, 3.5587756 , 4.46676077,\n",
       "       2.60678612, 2.32863282, 1.2621292 , 2.58850787, 1.51250891,\n",
       "       4.28240931, 4.59397448, 3.86711892, 2.54955049, 4.40427658])"
      ]
     },
     "execution_count": 11,
     "metadata": {},
     "output_type": "execute_result"
    }
   ],
   "source": [
    "np.random.uniform(1, 5, 100)"
   ]
  },
  {
   "cell_type": "markdown",
   "metadata": {},
   "source": [
    "**Задача 1.** Оценить вероятность того, что на игральной кости выпадет больше 4 очков. Сравнить с теоретической вероятностью."
   ]
  },
  {
   "cell_type": "code",
   "execution_count": 161,
   "metadata": {},
   "outputs": [
    {
     "name": "stdout",
     "output_type": "stream",
     "text": [
      "347 1000 0.347 0.3333333333333333\n"
     ]
    }
   ],
   "source": [
    "import numpy as np\n",
    "np.random.seed(None)\n",
    "trials = 1000    # Количество попыток\n",
    "successes = 0    # Количество успехов\n",
    "\n",
    "for i in range(trials):\n",
    "    random_score = np.random.randint(1, 7)    # Случайное количество очков от 1 до 6\n",
    "    if random_score > 4:\n",
    "        successes += 1\n",
    "        \n",
    "p_monte_carlo = successes / trials    # Вероятность из моделирования\n",
    "p = 2 / 6                             # Теоретическая вероятность\n",
    "\n",
    "print(successes, trials, p_monte_carlo, p)"
   ]
  },
  {
   "cell_type": "markdown",
   "metadata": {},
   "source": [
    "**Задача 1А** (опциональная). Дан квадрат, в который вписан круг (касаясь сторон квадрата). В квадрат случайным образом попадают точки. Какова вероятность, что наугад взятая точка попадёт в круг?  \n",
    "_Подсказка:_ Удобно взять квардат со стороной, равной 2, и отсчитывать координаты точек от его центра."
   ]
  },
  {
   "cell_type": "code",
   "execution_count": 53,
   "metadata": {},
   "outputs": [
    {
     "name": "stdout",
     "output_type": "stream",
     "text": [
      "0.785523\n",
      "3.142092\n"
     ]
    }
   ],
   "source": [
    "trials = 1000000\n",
    "successe = 0 \n",
    "\n",
    "for i in range(trials):\n",
    "    x = np.random.uniform(-1, 1)\n",
    "    y = np.random.uniform(-1, 1)\n",
    "    if x**2 + y**2 < 1:\n",
    "        successe += 1\n",
    "        \n",
    "print(successe / trials)\n",
    "print(successe / trials * 4) # число ПИ"
   ]
  },
  {
   "cell_type": "code",
   "execution_count": null,
   "metadata": {},
   "outputs": [],
   "source": []
  },
  {
   "cell_type": "markdown",
   "metadata": {},
   "source": [
    "**Задача 2.** Смоделировать стрельбу по мишени."
   ]
  },
  {
   "cell_type": "code",
   "execution_count": 54,
   "metadata": {},
   "outputs": [
    {
     "data": {
      "text/plain": [
       "<matplotlib.collections.PathCollection at 0x28cac863a08>"
      ]
     },
     "execution_count": 54,
     "metadata": {},
     "output_type": "execute_result"
    },
    {
     "data": {
      "image/png": "[encoded data removed]",
      "text/plain": [
       "<Figure size 432x288 with 1 Axes>"
      ]
     },
     "metadata": {
      "needs_background": "light"
     },
     "output_type": "display_data"
    }
   ],
   "source": [
    "import matplotlib.pyplot as plt\n",
    "\n",
    "shots = 1000    # Количество выстрелов\n",
    "std_dev = 1 # Стандартное отклонение (на сколько мы в среднем будем мазать)\n",
    "\n",
    "x = np.random.normal(0, std_dev, shots) # 0 - и среднее, и мода, и медиана\n",
    "y = np.random.normal(0, std_dev, shots)\n",
    "\n",
    "\n",
    "plt.scatter(x, y)\n",
    "# почему разброс от -3 до 3? # нормаьное распределение: правило 3 сигма"
   ]
  },
  {
   "cell_type": "markdown",
   "metadata": {},
   "source": [
    "**Задача 3.** Графически определить распределение измеренных значений физической величины, когда измерительный прибор имеет случайную погрешность."
   ]
  },
  {
   "cell_type": "code",
   "execution_count": 55,
   "metadata": {},
   "outputs": [
    {
     "data": {
      "text/plain": [
       "count    1040.000000\n",
       "mean       -9.797112\n",
       "std         0.087958\n",
       "min       -10.030373\n",
       "25%        -9.866481\n",
       "50%        -9.800747\n",
       "75%        -9.727398\n",
       "max        -9.570811\n",
       "Name: az, dtype: float64"
      ]
     },
     "execution_count": 55,
     "metadata": {},
     "output_type": "execute_result"
    }
   ],
   "source": [
    "import pandas as pd\n",
    "\n",
    "data = pd.read_csv(\"data.log\", sep=\" \")[\"az\"]\n",
    "data.describe()"
   ]
  },
  {
   "cell_type": "code",
   "execution_count": 56,
   "metadata": {},
   "outputs": [
    {
     "data": {
      "text/plain": [
       "<matplotlib.axes._subplots.AxesSubplot at 0x28cad719f88>"
      ]
     },
     "execution_count": 56,
     "metadata": {},
     "output_type": "execute_result"
    },
    {
     "data": {
      "image/png": "[encoded data removed]",
      "text/plain": [
       "<Figure size 432x288 with 1 Axes>"
      ]
     },
     "metadata": {
      "needs_background": "light"
     },
     "output_type": "display_data"
    }
   ],
   "source": [
    "data.plot()"
   ]
  },
  {
   "cell_type": "code",
   "execution_count": 61,
   "metadata": {},
   "outputs": [
    {
     "data": {
      "text/plain": [
       "array([-9.78514758, -9.8176654 , -9.77317315, ..., -9.8832262 ,\n",
       "       -9.65509942, -9.87254478])"
      ]
     },
     "execution_count": 61,
     "metadata": {},
     "output_type": "execute_result"
    }
   ],
   "source": [
    "uni = np.random.uniform(min(data), max(data), 10000)\n",
    "normal = np.random.normal(data.mean(), data.std(), 10000)\n",
    "normal"
   ]
  },
  {
   "cell_type": "code",
   "execution_count": 60,
   "metadata": {},
   "outputs": [
    {
     "data": {
      "image/png": "[encoded data removed]",
      "text/plain": [
       "<Figure size 432x288 with 1 Axes>"
      ]
     },
     "metadata": {
      "needs_background": "light"
     },
     "output_type": "display_data"
    },
    {
     "data": {
      "image/png": "[encoded data removed]",
      "text/plain": [
       "<Figure size 432x288 with 1 Axes>"
      ]
     },
     "metadata": {
      "needs_background": "light"
     },
     "output_type": "display_data"
    },
    {
     "data": {
      "image/png": "[encoded data removed]",
      "text/plain": [
       "<Figure size 432x288 with 1 Axes>"
      ]
     },
     "metadata": {
      "needs_background": "light"
     },
     "output_type": "display_data"
    }
   ],
   "source": [
    "plt.hist(uni, bins=11)\n",
    "plt.show()\n",
    "plt.hist(normal, bins=11)\n",
    "plt.show()\n",
    "plt.hist(data, bins=11)\n",
    "plt.show()"
   ]
  },
  {
   "cell_type": "markdown",
   "metadata": {},
   "source": [
    "**Задача 4.** Рассчитать вероятность того, что пациент заражён COVID-19, если известно, что тест дал положительный результат. Сравнить с результатом моделирования."
   ]
  },
  {
   "cell_type": "code",
   "execution_count": 66,
   "metadata": {},
   "outputs": [
    {
     "name": "stdout",
     "output_type": "stream",
     "text": [
      "0.8333333333333334\n"
     ]
    }
   ],
   "source": [
    "prev = 0.5    # Распространённость болезни\n",
    "sens = 1    # Чувствительность теста\n",
    "spec = 0.80    # Специфичность теста\n",
    "\n",
    "p = (sens * prev) / (sens * prev + (1 - spec) * (1 - prev))   # Теоретическая вероятность \n",
    "print(p)"
   ]
  },
  {
   "cell_type": "code",
   "execution_count": 70,
   "metadata": {},
   "outputs": [
    {
     "name": "stdout",
     "output_type": "stream",
     "text": [
      "0.8346874481843807\n"
     ]
    }
   ],
   "source": [
    "population = 10000    # Количество испытуемых\n",
    "\n",
    "true_pos = 0    # Количество больных с положительным тестом\n",
    "false_pos = 0   # Количество здоровых с положительным тестом\n",
    "\n",
    "for i in range(population):\n",
    "    # Наугад решаем, заражён ли человек\n",
    "    # для этого генерируем случайную величину от 0 до 1     \n",
    "    infected = np.random.uniform() < prev\n",
    "    \n",
    "    # Наугад решаем, дал ли тест положительный результат \n",
    "    positive = np.random.uniform() < sens if infected else np.random.uniform() < 1 - spec\n",
    "    \n",
    "    if positive:\n",
    "        if infected:\n",
    "            true_pos += 1\n",
    "        else:\n",
    "            false_pos += 1\n",
    "            \n",
    "p_monte_carlo = true_pos / (true_pos + false_pos)    # Вероятность из моделирования\n",
    "print(p_monte_carlo)"
   ]
  },
  {
   "cell_type": "markdown",
   "metadata": {},
   "source": [
    "### Домашняя работа"
   ]
  },
  {
   "cell_type": "code",
   "execution_count": 181,
   "metadata": {},
   "outputs": [
    {
     "name": "stdout",
     "output_type": "stream",
     "text": [
      "Кол-во попыток: 10000 Кол-во выигрышных попыток: 83\n",
      "Выигрыш: 3201 руб. Вероятность выигрыша:0.3201\n",
      "Проигрыш: 9917 руб. Вероятность проигрыша:0.6799\n"
     ]
    }
   ],
   "source": [
    "#np.random.seed(None)\n",
    "trials = 10000    # Количество попыток\n",
    "successes = 0     # Выигрыш\n",
    "looser = 0        # Проигрыш\n",
    "\n",
    "for i in range(trials):\n",
    "    random_score = np.random.randint(0, 1000)    # Случайный номер\n",
    "    \n",
    "    if random_score == 777:\n",
    "        successes += 200\n",
    "    elif random_score == 999:\n",
    "        successes += 100\n",
    "    elif random_score == 555:\n",
    "        successes += 50\n",
    "    elif random_score == 333:\n",
    "        successes += 15\n",
    "    elif random_score == 111:\n",
    "        successes += 10\n",
    "    elif random_score == 777%100:\n",
    "        successes += 5\n",
    "    elif random_score == 777%10:\n",
    "        successes += 3       \n",
    "    elif random_score == 700%100:\n",
    "        successes += 2\n",
    "    elif random_score == 700%10:\n",
    "        successes += 1\n",
    "    else:\n",
    "        looser += 1\n",
    "        \n",
    "        \n",
    "p_monte_carlo = successes / trials    # Вероятность из моделирования\n",
    "\n",
    "\n",
    "#print(successes, trials, p_monte_carlo)\n",
    "print(f'Кол-во попыток: {trials} Кол-во выигрышных попыток: {trials - looser}')\n",
    "print(f'Выигрыш: {successes} руб. Вероятность выигрыша:{p_monte_carlo}')\n",
    "print(f'Проигрыш: {looser} руб. Вероятность проигрыша:{1 - p_monte_carlo}')\n",
    "# print(random_score)"
   ]
  },
  {
   "cell_type": "code",
   "execution_count": 182,
   "metadata": {},
   "outputs": [
    {
     "data": {
      "text/plain": [
       "array([165, 964, 125, 636,  76, 784, 367, 497, 599, 308, 526, 822, 856,\n",
       "       411, 427, 777, 639,  79, 571, 698,  10, 736, 119, 832, 979, 829,\n",
       "        59, 549, 566, 944, 232, 509, 181, 283, 634, 461, 499, 277, 162,\n",
       "       730,  50, 609, 476, 917, 786, 969, 720, 155, 561, 205, 605, 669,\n",
       "       586, 352,  16, 687, 651, 964, 699, 377, 379, 617, 444, 778, 416,\n",
       "        83, 466,  36, 625, 642, 211, 163, 567, 528, 800, 331, 200, 627,\n",
       "       335, 425, 120, 852, 485, 742, 983, 767, 948,  32, 259, 229, 346,\n",
       "       257, 962, 856, 996, 554, 975, 154, 880, 780])"
      ]
     },
     "execution_count": 182,
     "metadata": {},
     "output_type": "execute_result"
    }
   ],
   "source": [
    "random_score = np.random.randint(0, 1000, 100)\n",
    "random_score"
   ]
  },
  {
   "cell_type": "code",
   "execution_count": 157,
   "metadata": {},
   "outputs": [
    {
     "data": {
      "text/plain": [
       "0"
      ]
     },
     "execution_count": 157,
     "metadata": {},
     "output_type": "execute_result"
    }
   ],
   "source": [
    "1000%100"
   ]
  },
  {
   "cell_type": "code",
   "execution_count": null,
   "metadata": {},
   "outputs": [],
   "source": []
  }
 ],
 "metadata": {
  "kernelspec": {
   "display_name": "Python 3",
   "language": "python",
   "name": "python3"
  },
  "language_info": {
   "codemirror_mode": {
    "name": "ipython",
    "version": 3
   },
   "file_extension": ".py",
   "mimetype": "text/x-python",
   "name": "python",
   "nbconvert_exporter": "python",
   "pygments_lexer": "ipython3",
   "version": "3.7.6"
  }
 },
 "nbformat": 4,
 "nbformat_minor": 4
}
